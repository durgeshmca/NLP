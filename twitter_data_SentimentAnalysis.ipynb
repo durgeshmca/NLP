{
 "cells": [
  {
   "cell_type": "code",
   "execution_count": 1,
   "id": "90e1baf1-6c18-448f-8f9e-d340fe2d053e",
   "metadata": {
    "tags": []
   },
   "outputs": [],
   "source": [
    "# import necessary libraries\n",
    "import pandas as pd\n",
    "import re\n",
    "import string,time\n",
    "from nltk.corpus import stopwords\n",
    "from nltk.tokenize import word_tokenize\n",
    "from nltk.stem import PorterStemmer,WordNetLemmatizer\n",
    "\n",
    "# define utility funtions\n",
    "\n",
    "def remove_html_tags(text):\n",
    "    pattern = re.compile('<.*?>')\n",
    "    return pattern.sub(r'', text)\n",
    "\n",
    "def remove_url(text):\n",
    "    pattern = re.compile(r'https?://\\S+|www\\.\\S+')\n",
    "    return pattern.sub(r'', text)\n",
    "\n",
    "def remove_punc(text):\n",
    "    exclude = string.punctuation\n",
    "    for char in exclude:\n",
    "        text = text.replace(char,'')\n",
    "    return text\n",
    "\n",
    "def remove_punc1(text):\n",
    "    exclude = string.punctuation\n",
    "    return text.translate(str.maketrans('', '', exclude))\n",
    "\n",
    "\n",
    "def chat_conversion(text):\n",
    "    chat_words = {\n",
    "        'AFAIK':'as far as i know',\n",
    "        'AFK':'away from keyboard',\n",
    "        'ASAP':'as soon as possible'\n",
    "    }\n",
    "    new_text = []\n",
    "    for w in text.split():\n",
    "        if w.upper() in chat_words:\n",
    "            new_text.append(chat_words[w.upper()])\n",
    "        else:\n",
    "            new_text.append(w)\n",
    "    return \" \".join(new_text)\n",
    "\n",
    "def remove_stopwords(text):\n",
    "    new_text = []\n",
    "\n",
    "    for word in text.split():\n",
    "        if word in stopwords.words('english'):\n",
    "            new_text.append('')\n",
    "        else:\n",
    "            new_text.append(word)\n",
    "    x = new_text[:]\n",
    "    new_text.clear()\n",
    "    return \" \".join(x)\n",
    "\n",
    "def remove_emoji(text):\n",
    "    emoji_pattern = re.compile(\"[\"\n",
    "                           u\"\\U0001F600-\\U0001F64F\"  # emoticons\n",
    "                           u\"\\U0001F300-\\U0001F5FF\"  # symbols & pictographs\n",
    "                           u\"\\U0001F680-\\U0001F6FF\"  # transport & map symbols\n",
    "                           u\"\\U0001F1E0-\\U0001F1FF\"  # flags (iOS)\n",
    "                           u\"\\U00002702-\\U000027B0\"\n",
    "                           u\"\\U000024C2-\\U0001F251\"\n",
    "                           \"]+\", flags=re.UNICODE)\n",
    "    return emoji_pattern.sub(r'', text)\n",
    "\n",
    "def remove_stop_words(text):\n",
    "    sentence = word_tokenize(text)\n",
    "    words = [ word for word in sentence if not word in stopwords.word('english')]\n",
    "    return ' '.join(words)\n",
    "\n",
    "def remove_stop_words(text):\n",
    "    sentence = word_tokenize(text)\n",
    "    words = [ word for word in sentence if not word in stopwords.words('english')]\n",
    "    return ' '.join(words)\n",
    "\n",
    "def lemmatize_words(text):\n",
    "    lem = WordNetLemmatizer()\n",
    "    sentence = word_tokenize(text)\n",
    "    words = [ lem.lemmatize(word) for word in sentence]\n",
    "    return ' '.join(words)\n",
    "    \n",
    "def stem_words(text):\n",
    "    stemmer = PorterStemmer()\n",
    "    sentence = word_tokenize(text)\n",
    "    words = [ stemmer.stem(word) for word in sentence]\n",
    "    return ' '.join(words)"
   ]
  },
  {
   "cell_type": "code",
   "execution_count": 2,
   "id": "82b23447-a6cf-4404-b05a-5deed4032b5d",
   "metadata": {
    "tags": []
   },
   "outputs": [
    {
     "data": {
      "text/html": [
       "<div>\n",
       "<style scoped>\n",
       "    .dataframe tbody tr th:only-of-type {\n",
       "        vertical-align: middle;\n",
       "    }\n",
       "\n",
       "    .dataframe tbody tr th {\n",
       "        vertical-align: top;\n",
       "    }\n",
       "\n",
       "    .dataframe thead th {\n",
       "        text-align: right;\n",
       "    }\n",
       "</style>\n",
       "<table border=\"1\" class=\"dataframe\">\n",
       "  <thead>\n",
       "    <tr style=\"text-align: right;\">\n",
       "      <th></th>\n",
       "      <th>id</th>\n",
       "      <th>label</th>\n",
       "      <th>tweet</th>\n",
       "    </tr>\n",
       "  </thead>\n",
       "  <tbody>\n",
       "    <tr>\n",
       "      <th>0</th>\n",
       "      <td>1</td>\n",
       "      <td>0</td>\n",
       "      <td>@user when a father is dysfunctional and is s...</td>\n",
       "    </tr>\n",
       "    <tr>\n",
       "      <th>1</th>\n",
       "      <td>2</td>\n",
       "      <td>0</td>\n",
       "      <td>@user @user thanks for #lyft credit i can't us...</td>\n",
       "    </tr>\n",
       "    <tr>\n",
       "      <th>2</th>\n",
       "      <td>3</td>\n",
       "      <td>0</td>\n",
       "      <td>bihday your majesty</td>\n",
       "    </tr>\n",
       "    <tr>\n",
       "      <th>3</th>\n",
       "      <td>4</td>\n",
       "      <td>0</td>\n",
       "      <td>#model   i love u take with u all the time in ...</td>\n",
       "    </tr>\n",
       "    <tr>\n",
       "      <th>4</th>\n",
       "      <td>5</td>\n",
       "      <td>0</td>\n",
       "      <td>factsguide: society now    #motivation</td>\n",
       "    </tr>\n",
       "  </tbody>\n",
       "</table>\n",
       "</div>"
      ],
      "text/plain": [
       "   id  label                                              tweet\n",
       "0   1      0   @user when a father is dysfunctional and is s...\n",
       "1   2      0  @user @user thanks for #lyft credit i can't us...\n",
       "2   3      0                                bihday your majesty\n",
       "3   4      0  #model   i love u take with u all the time in ...\n",
       "4   5      0             factsguide: society now    #motivation"
      ]
     },
     "execution_count": 2,
     "metadata": {},
     "output_type": "execute_result"
    }
   ],
   "source": [
    "# load data set\n",
    "df = pd.read_csv(\"data/Twitter Sentiments.csv\");\n",
    "df.head()"
   ]
  },
  {
   "cell_type": "code",
   "execution_count": 3,
   "id": "ed1cb6f5-eff6-41a0-aa4a-46d98ef23173",
   "metadata": {
    "tags": []
   },
   "outputs": [
    {
     "data": {
      "text/plain": [
       "' @user when a father is dysfunctional and is so selfish he drags his kids into his dysfunction.   #run'"
      ]
     },
     "execution_count": 3,
     "metadata": {},
     "output_type": "execute_result"
    }
   ],
   "source": [
    "df['tweet'][0]"
   ]
  },
  {
   "cell_type": "code",
   "execution_count": 4,
   "id": "aeb79d6f-dc61-49d9-bef5-e91323e92b05",
   "metadata": {
    "tags": []
   },
   "outputs": [
    {
     "data": {
      "text/plain": [
       "(31962, 3)"
      ]
     },
     "execution_count": 4,
     "metadata": {},
     "output_type": "execute_result"
    }
   ],
   "source": [
    "df.shape"
   ]
  },
  {
   "cell_type": "markdown",
   "id": "a5b49e65-a502-4cc1-8600-e52e894528f6",
   "metadata": {},
   "source": [
    "# Steps for data preprocessing"
   ]
  },
  {
   "cell_type": "markdown",
   "id": "3dd9462b-68f9-40aa-a606-2b4cbaacc1ec",
   "metadata": {},
   "source": [
    "### 1.lower case\n",
    "### 2.remove_html_tags\n",
    "### 3.remove_url\n",
    "### 4.punctuation handling\n",
    "### 5.chat_conversion handle\n",
    "### 6.incorrect_text handling\n",
    "### 7.stopwords\n",
    "### 8.remove_emoji handle\n",
    "### 9.Tokenization\n",
    "### 10.Stemming \n",
    "### 11.Lemmatizing"
   ]
  },
  {
   "cell_type": "code",
   "execution_count": 5,
   "id": "4da916e8-b8f9-4be1-8729-289c653851fa",
   "metadata": {
    "tags": []
   },
   "outputs": [],
   "source": [
    "df_copy = df.copy()\n",
    "from nltk.tokenize import sent_tokenize"
   ]
  },
  {
   "cell_type": "code",
   "execution_count": 6,
   "id": "568575f0-4a36-4712-8aa5-5d935243b8cc",
   "metadata": {
    "tags": []
   },
   "outputs": [
    {
     "data": {
      "text/plain": [
       "' @user when a father is dysfunctional and is so selfish he drags his kids into his dysfunction.   #run'"
      ]
     },
     "execution_count": 6,
     "metadata": {},
     "output_type": "execute_result"
    }
   ],
   "source": [
    "# lowering\n",
    "df_copy['tweet'] = df_copy['tweet'].str.lower()\n",
    "df_copy.tweet[0]"
   ]
  },
  {
   "cell_type": "code",
   "execution_count": 7,
   "id": "18429721-6031-4540-8539-2caec371a572",
   "metadata": {
    "tags": []
   },
   "outputs": [],
   "source": [
    "#remove html tags\n",
    "df_copy['tweet'] = df_copy['tweet'].apply(remove_html_tags)"
   ]
  },
  {
   "cell_type": "code",
   "execution_count": 8,
   "id": "540bbdc5-89a3-4063-bcfc-ac850a7ef1f5",
   "metadata": {
    "tags": []
   },
   "outputs": [],
   "source": [
    "# remove URLs\n",
    "df_copy['tweet'] = df_copy['tweet'].apply(remove_url)"
   ]
  },
  {
   "cell_type": "code",
   "execution_count": 9,
   "id": "5d41739f-c615-444c-9fc8-bd6fc111073b",
   "metadata": {
    "tags": []
   },
   "outputs": [],
   "source": [
    "# remove punctuation\n",
    "df_copy['tweet'] = df_copy['tweet'].apply(remove_punc1)"
   ]
  },
  {
   "cell_type": "code",
   "execution_count": 10,
   "id": "13a413fa-48f0-4588-ab8a-202039a5b09e",
   "metadata": {
    "tags": []
   },
   "outputs": [
    {
     "data": {
      "text/plain": [
       "'model   i love u take with u all the time in urð\\x9f\\x93± ð\\x9f\\x98\\x99ð\\x9f\\x98\\x8eð\\x9f\\x91\\x84ð\\x9f\\x91\\x85ð\\x9f\\x92¦ð\\x9f\\x92¦ð\\x9f\\x92¦  '"
      ]
     },
     "execution_count": 10,
     "metadata": {},
     "output_type": "execute_result"
    }
   ],
   "source": [
    "df_copy.tweet[3]"
   ]
  },
  {
   "cell_type": "code",
   "execution_count": 11,
   "id": "9361d091-d8fa-4909-8c73-87a87e27394c",
   "metadata": {
    "tags": []
   },
   "outputs": [
    {
     "data": {
      "text/plain": [
       "'user hey when are u guys gonna release the gtx 1080 strix in australia i needa buy it asap cant wait no longer hahahahaaa  '"
      ]
     },
     "execution_count": 11,
     "metadata": {},
     "output_type": "execute_result"
    }
   ],
   "source": [
    "# chat conversion\n",
    "df_copy.tweet[4018]"
   ]
  },
  {
   "cell_type": "code",
   "execution_count": 12,
   "id": "7eb07479-4561-477c-88e4-091d96b660e0",
   "metadata": {
    "tags": []
   },
   "outputs": [
    {
     "data": {
      "text/plain": [
       "'user hey when are u guys gonna release the gtx 1080 strix in australia i needa buy it as soon as possible cant wait no longer hahahahaaa'"
      ]
     },
     "execution_count": 12,
     "metadata": {},
     "output_type": "execute_result"
    }
   ],
   "source": [
    "df_copy['tweet'] = df_copy['tweet'].apply(chat_conversion)\n",
    "df_copy.tweet[4018]"
   ]
  },
  {
   "cell_type": "code",
   "execution_count": 13,
   "id": "26298862-8407-4cf6-89ae-7a41910093a4",
   "metadata": {
    "tags": []
   },
   "outputs": [],
   "source": [
    "#incorrect text handling\n",
    "from textblob import TextBlob\n"
   ]
  },
  {
   "cell_type": "code",
   "execution_count": 14,
   "id": "ee21bdc5-848b-4879-a89f-a77e11d22e82",
   "metadata": {
    "tags": []
   },
   "outputs": [],
   "source": [
    "#df_copy['tweet'] = df_copy['tweet'].apply(lambda text: TextBlob(text).correct().string)"
   ]
  },
  {
   "cell_type": "code",
   "execution_count": 15,
   "id": "cc6847bb-1ad5-4235-9ae4-9eee7c37eee9",
   "metadata": {
    "tags": []
   },
   "outputs": [
    {
     "data": {
      "text/plain": [
       "'user hey u guys gon na release gtx 1080 strix australia needa buy soon possible cant wait longer hahahahaaa'"
      ]
     },
     "execution_count": 15,
     "metadata": {},
     "output_type": "execute_result"
    }
   ],
   "source": [
    "# remove stopwords\n",
    "df_copy['tweet'] = df_copy['tweet'].apply(remove_stop_words)\n",
    "df_copy.tweet[4018]"
   ]
  },
  {
   "cell_type": "code",
   "execution_count": 16,
   "id": "4f4fcd03-23b2-4276-b235-5651aeaf177e",
   "metadata": {
    "tags": []
   },
   "outputs": [
    {
     "data": {
      "text/plain": [
       "'model love u take u time urð\\x9f\\x93± ð\\x9f\\x98\\x99ð\\x9f\\x98\\x8eð\\x9f\\x91\\x84ð\\x9f\\x91 ð\\x9f\\x92¦ð\\x9f\\x92¦ð\\x9f\\x92¦'"
      ]
     },
     "execution_count": 16,
     "metadata": {},
     "output_type": "execute_result"
    }
   ],
   "source": [
    "# remove emojis\n",
    "df_copy['tweet'] = df_copy['tweet'].apply(remove_emoji)\n",
    "df_copy.tweet[3]"
   ]
  },
  {
   "cell_type": "code",
   "execution_count": 17,
   "id": "ca7fae20-8b7f-4235-84ab-fcd3a3bce0ca",
   "metadata": {
    "tags": []
   },
   "outputs": [
    {
     "data": {
      "text/plain": [
       "'model love u take u time ur                                 '"
      ]
     },
     "execution_count": 17,
     "metadata": {},
     "output_type": "execute_result"
    }
   ],
   "source": [
    "#remove special characters\n",
    "reg = r'[^a-zA-Z]'\n",
    "df_copy['tweet'] = df_copy['tweet'].apply(lambda text : re.sub(reg,' ',text))\n",
    "df_copy.tweet[3]"
   ]
  },
  {
   "cell_type": "code",
   "execution_count": 18,
   "id": "fdbb8771-4843-4ce0-9193-8d42437b7a81",
   "metadata": {
    "tags": []
   },
   "outputs": [],
   "source": [
    "#lemmatizing the words\n",
    "df_copy['tweet'] = df_copy['tweet'].apply(lemmatize_words)"
   ]
  },
  {
   "cell_type": "code",
   "execution_count": 19,
   "id": "8ab7796b-9fe1-4764-bb4f-0231bb9a8d20",
   "metadata": {
    "tags": []
   },
   "outputs": [
    {
     "data": {
      "text/plain": [
       "0        user father dysfunctional selfish drag kid dys...\n",
       "1        user user thanks lyft credit cant use cause do...\n",
       "2                                           bihday majesty\n",
       "3                              model love u take u time ur\n",
       "4                            factsguide society motivation\n",
       "                               ...                        \n",
       "31957                                   ate user isz youuu\n",
       "31958    see nina turner airwave trying wrap mantle gen...\n",
       "31959       listening sad song monday morning otw work sad\n",
       "31960    user sikh temple vandalised calgary wso condem...\n",
       "31961                                    thank user follow\n",
       "Name: tweet, Length: 31962, dtype: object"
      ]
     },
     "execution_count": 19,
     "metadata": {},
     "output_type": "execute_result"
    }
   ],
   "source": [
    "df_copy['tweet']"
   ]
  },
  {
   "cell_type": "code",
   "execution_count": 20,
   "id": "2746fcc0-cd06-4b91-b3c3-656f5e034f46",
   "metadata": {
    "tags": []
   },
   "outputs": [
    {
     "data": {
      "text/plain": [
       "0    29720\n",
       "1     2242\n",
       "Name: label, dtype: int64"
      ]
     },
     "execution_count": 20,
     "metadata": {},
     "output_type": "execute_result"
    }
   ],
   "source": [
    "df_copy.label.value_counts()\n"
   ]
  },
  {
   "cell_type": "code",
   "execution_count": null,
   "id": "9e2a5e17-f84c-44ac-9f56-b9d215d9778f",
   "metadata": {
    "tags": []
   },
   "outputs": [],
   "source": []
  },
  {
   "cell_type": "markdown",
   "id": "775e00b5-2c45-4d09-ab73-f4717c0806d2",
   "metadata": {},
   "source": [
    "### data is highly imbalanced"
   ]
  },
  {
   "cell_type": "code",
   "execution_count": 21,
   "id": "8dea82f0-4676-44e0-b664-406d1cdc547c",
   "metadata": {
    "tags": []
   },
   "outputs": [
    {
     "name": "stdout",
     "output_type": "stream",
     "text": [
      "(31962, 3)\n"
     ]
    }
   ],
   "source": [
    "print(df_copy.shape)\n",
    "df_copy2 = df_copy.copy()\n",
    "import numpy as np\n",
    "# ls = np.where(df_copy['label'] == 0)\n",
    "# len(ls[0])\n",
    "indices = df_copy.index[df_copy['label'] == 0].tolist()\n",
    "\n",
    "indices[0:3000]\n",
    "# df_copy.label.value_counts()  \n",
    "df_new = df_copy.copy()\n",
    "df_new = df_new.drop(index= indices[3000:])\n"
   ]
  },
  {
   "cell_type": "code",
   "execution_count": 22,
   "id": "624ef039-1d04-4763-8d80-d1dc393acd27",
   "metadata": {
    "tags": []
   },
   "outputs": [
    {
     "data": {
      "text/plain": [
       "0    3000\n",
       "1    2242\n",
       "Name: label, dtype: int64"
      ]
     },
     "execution_count": 22,
     "metadata": {},
     "output_type": "execute_result"
    }
   ],
   "source": [
    "df_new.label.value_counts()"
   ]
  },
  {
   "cell_type": "code",
   "execution_count": 23,
   "id": "93a75c43-6808-4d18-9ea2-0520446c060c",
   "metadata": {
    "tags": []
   },
   "outputs": [],
   "source": [
    "df_copy = df_new\n"
   ]
  },
  {
   "cell_type": "code",
   "execution_count": null,
   "id": "04f0aa40-1078-4e38-92a6-c86aaf31b63b",
   "metadata": {},
   "outputs": [],
   "source": []
  },
  {
   "cell_type": "markdown",
   "id": "d4e0e413-d82a-41ec-bebc-d344ef81f3e5",
   "metadata": {},
   "source": [
    "# Bag Of Words"
   ]
  },
  {
   "cell_type": "code",
   "execution_count": 24,
   "id": "a1a99b05-f4e8-4169-8cda-8549f050ff0c",
   "metadata": {
    "tags": []
   },
   "outputs": [],
   "source": [
    "from sklearn.feature_extraction.text import CountVectorizer\n",
    "cv = CountVectorizer()"
   ]
  },
  {
   "cell_type": "code",
   "execution_count": 25,
   "id": "0d6b7263-15db-4ef0-9b61-d695f5245764",
   "metadata": {
    "tags": []
   },
   "outputs": [],
   "source": [
    "bow = cv.fit_transform(df_copy['tweet'])"
   ]
  },
  {
   "cell_type": "code",
   "execution_count": 26,
   "id": "d0b09ada-24c3-4560-99ea-40b2f101184a",
   "metadata": {
    "tags": []
   },
   "outputs": [
    {
     "data": {
      "text/plain": [
       "11119"
      ]
     },
     "execution_count": 26,
     "metadata": {},
     "output_type": "execute_result"
    }
   ],
   "source": [
    "len(cv.vocabulary_)"
   ]
  },
  {
   "cell_type": "code",
   "execution_count": 27,
   "id": "c5b93de7-cdcc-4fe3-a27c-bef4c53e8404",
   "metadata": {
    "tags": []
   },
   "outputs": [
    {
     "data": {
      "text/plain": [
       "array([[0, 0, 0, ..., 0, 0, 0],\n",
       "       [0, 0, 0, ..., 0, 0, 0],\n",
       "       [0, 0, 0, ..., 0, 0, 0],\n",
       "       ...,\n",
       "       [0, 0, 0, ..., 0, 0, 0],\n",
       "       [0, 0, 0, ..., 0, 0, 0],\n",
       "       [0, 0, 0, ..., 0, 0, 0]])"
      ]
     },
     "execution_count": 27,
     "metadata": {},
     "output_type": "execute_result"
    }
   ],
   "source": [
    "bow.toarray()"
   ]
  },
  {
   "cell_type": "code",
   "execution_count": 28,
   "id": "eade7bb7-4287-4020-bba0-c5f5c20d0326",
   "metadata": {
    "tags": []
   },
   "outputs": [
    {
     "name": "stdout",
     "output_type": "stream",
     "text": [
      "[[0 0 0 ... 0 0 0]]\n"
     ]
    }
   ],
   "source": [
    "print(bow[0].toarray())"
   ]
  },
  {
   "cell_type": "code",
   "execution_count": 29,
   "id": "3cef9fa9-fa17-49ec-9e26-8375b4c6f5a8",
   "metadata": {
    "tags": []
   },
   "outputs": [],
   "source": [
    "from sklearn.metrics import confusion_matrix,accuracy_score\n",
    "from sklearn.model_selection import train_test_split\n",
    "X_train_bow ,X_test_bow,Y_train,Y_test = train_test_split(bow.toarray(),df_copy['label'],test_size=0.20,random_state=0)"
   ]
  },
  {
   "cell_type": "code",
   "execution_count": 30,
   "id": "da83a65b-cc2c-4f16-aaf1-1f22f833cbaf",
   "metadata": {
    "tags": []
   },
   "outputs": [
    {
     "name": "stdout",
     "output_type": "stream",
     "text": [
      "(4193, 11119) (1049, 11119) (4193,) (1049,)\n"
     ]
    }
   ],
   "source": [
    "print(X_train_bow.shape,X_test_bow.shape,Y_train.shape,Y_test.shape)"
   ]
  },
  {
   "cell_type": "markdown",
   "id": "57f6e8be-9167-4830-81f8-a24a624a01ca",
   "metadata": {
    "tags": []
   },
   "source": [
    "## Apply ML"
   ]
  },
  {
   "cell_type": "code",
   "execution_count": 31,
   "id": "f17a0484-97f7-4d62-85b0-2f80c3013b5c",
   "metadata": {
    "tags": []
   },
   "outputs": [
    {
     "data": {
      "text/plain": [
       "0.7569113441372736"
      ]
     },
     "execution_count": 31,
     "metadata": {},
     "output_type": "execute_result"
    }
   ],
   "source": [
    "from sklearn.naive_bayes import GaussianNB\n",
    "gnb = GaussianNB()\n",
    "gnb.fit(X_train_bow,Y_train)\n",
    "y_pred = gnb.predict(X_test_bow)\n",
    "accuracy_score(y_pred,Y_test)"
   ]
  },
  {
   "cell_type": "code",
   "execution_count": 32,
   "id": "d7cf7b8b-9f76-4fa5-9a86-31d78f445f5b",
   "metadata": {
    "tags": []
   },
   "outputs": [
    {
     "data": {
      "text/plain": [
       "0.8217349857006673"
      ]
     },
     "execution_count": 32,
     "metadata": {},
     "output_type": "execute_result"
    }
   ],
   "source": [
    "from sklearn.ensemble import RandomForestClassifier\n",
    "rfc = RandomForestClassifier()\n",
    "rfc.fit(X_train_bow,Y_train)\n",
    "y_pred = rfc.predict(X_test_bow)\n",
    "accuracy_score(y_pred,Y_test)"
   ]
  },
  {
   "cell_type": "markdown",
   "id": "4f5e111f-f1ba-49e0-b122-504f729a343b",
   "metadata": {},
   "source": [
    "# TFIDF"
   ]
  },
  {
   "cell_type": "code",
   "execution_count": 33,
   "id": "a3621f0c-2554-4608-8dfc-787eb8f3d470",
   "metadata": {
    "tags": []
   },
   "outputs": [],
   "source": [
    "from sklearn.feature_extraction.text import TfidfVectorizer"
   ]
  },
  {
   "cell_type": "code",
   "execution_count": 34,
   "id": "d6d745ed-2908-4280-b99d-9a340743fb51",
   "metadata": {
    "tags": []
   },
   "outputs": [
    {
     "data": {
      "text/plain": [
       "array([[0., 0., 0., ..., 0., 0., 0.],\n",
       "       [0., 0., 0., ..., 0., 0., 0.],\n",
       "       [0., 0., 0., ..., 0., 0., 0.],\n",
       "       ...,\n",
       "       [0., 0., 0., ..., 0., 0., 0.],\n",
       "       [0., 0., 0., ..., 0., 0., 0.],\n",
       "       [0., 0., 0., ..., 0., 0., 0.]])"
      ]
     },
     "execution_count": 34,
     "metadata": {},
     "output_type": "execute_result"
    }
   ],
   "source": [
    "tf = TfidfVectorizer()\n",
    "tfidfArray = tf.fit_transform(df_copy['tweet']).toarray()\n",
    "tfidfArray"
   ]
  },
  {
   "cell_type": "code",
   "execution_count": 35,
   "id": "c9091476-4467-4b84-a956-6c285b38e135",
   "metadata": {
    "tags": []
   },
   "outputs": [
    {
     "data": {
      "text/plain": [
       "array([8.87150195, 8.87150195, 8.87150195, ..., 8.87150195, 8.87150195,\n",
       "       8.87150195])"
      ]
     },
     "execution_count": 35,
     "metadata": {},
     "output_type": "execute_result"
    }
   ],
   "source": [
    "tf.idf_"
   ]
  },
  {
   "cell_type": "code",
   "execution_count": 36,
   "id": "9b93421d-6ad6-45c6-8668-0dbdf349a774",
   "metadata": {},
   "outputs": [
    {
     "data": {
      "text/plain": [
       "0.8245948522402288"
      ]
     },
     "execution_count": 36,
     "metadata": {},
     "output_type": "execute_result"
    }
   ],
   "source": [
    "X_train ,X_test,Y_train,Y_test = train_test_split(tfidfArray,df_copy['label'],test_size=0.20,random_state=0)\n",
    "rfc = RandomForestClassifier()\n",
    "rfc.fit(X_train,Y_train)\n",
    "y_pred = rfc.predict(X_test)\n",
    "accuracy_score(y_pred,Y_test)"
   ]
  },
  {
   "cell_type": "markdown",
   "id": "4861ba81-094f-4c7c-b78a-d8f4ec02c19b",
   "metadata": {},
   "source": [
    "## Word to vec"
   ]
  },
  {
   "cell_type": "code",
   "execution_count": 37,
   "id": "1dc95f2e-a640-4c57-bc4d-ef3aaefb3410",
   "metadata": {
    "tags": []
   },
   "outputs": [
    {
     "data": {
      "text/plain": [
       "(1098246, 1342810)"
      ]
     },
     "execution_count": 37,
     "metadata": {},
     "output_type": "execute_result"
    }
   ],
   "source": [
    "tokenized_tweet = df_copy2['tweet'].apply(lambda x: x.split()) # tokenizing \n",
    "\n",
    "from gensim.models import Word2Vec\n",
    "model_w2v = Word2Vec(\n",
    "    window=10,\n",
    "    min_count=2,\n",
    ")\n",
    "model_w2v.build_vocab(tokenized_tweet)\n",
    "model_w2v.train(tokenized_tweet, total_examples=model_w2v.corpus_count, epochs=model_w2v.epochs)"
   ]
  },
  {
   "cell_type": "code",
   "execution_count": 38,
   "id": "03e66b2e-e6de-47cd-82d1-a6902831b258",
   "metadata": {
    "tags": []
   },
   "outputs": [
    {
     "data": {
      "text/plain": [
       "[('la', 0.9956013560295105),\n",
       " ('reminder', 0.9955602884292603),\n",
       " ('loveyou', 0.9951502680778503),\n",
       " ('design', 0.9947088360786438),\n",
       " ('humpday', 0.9946856498718262),\n",
       " ('bunny', 0.9946749806404114),\n",
       " ('beer', 0.9945499300956726),\n",
       " ('paradise', 0.9945416450500488),\n",
       " ('paris', 0.9944410920143127),\n",
       " ('rainbow', 0.994280993938446)]"
      ]
     },
     "execution_count": 38,
     "metadata": {},
     "output_type": "execute_result"
    }
   ],
   "source": [
    "model_w2v.wv.most_similar(positive=\"dinner\")"
   ]
  },
  {
   "cell_type": "code",
   "execution_count": 39,
   "id": "60eb0f53-5b33-4667-bc16-6c769029ae65",
   "metadata": {
    "tags": []
   },
   "outputs": [],
   "source": [
    "y = model_w2v.wv.index_to_key"
   ]
  },
  {
   "cell_type": "code",
   "execution_count": 40,
   "id": "3afefe30-a2ca-424c-8a22-fba1c5d85b8d",
   "metadata": {
    "tags": []
   },
   "outputs": [
    {
     "name": "stdout",
     "output_type": "stream",
     "text": [
      "['user', 'father', 'dysfunctional', 'selfish', 'drag', 'kid', 'dysfunction', 'run']\n"
     ]
    },
    {
     "data": {
      "text/plain": [
       "array([ 0.36760587,  0.06352774,  0.26577964, -0.07383872, -0.17611517,\n",
       "       -0.80968654,  0.6607155 ,  1.9512951 , -0.7366356 , -0.4459084 ,\n",
       "       -0.05949062, -0.79431295,  0.03478067,  0.54327583, -0.1461035 ,\n",
       "       -0.57407945,  0.20170864, -0.81982255, -0.38568732, -1.7894647 ,\n",
       "        1.1517943 ,  0.89570993,  0.6322998 , -0.2586831 ,  0.06424015,\n",
       "       -0.5588366 , -0.13685638, -0.15524995, -0.8803973 , -0.17639638,\n",
       "        0.7059247 , -0.3276034 ,  0.548378  , -0.94819367, -0.28550637,\n",
       "        0.11850192,  0.6504269 , -0.9252527 , -0.08110474, -1.2786338 ,\n",
       "       -0.14183562, -0.38168025, -1.3521514 , -0.24450126,  0.53713745,\n",
       "       -0.37213984, -0.99861693,  0.3508669 ,  0.77051044,  0.9265397 ,\n",
       "        0.5096165 , -0.28675443,  0.17559634, -0.6821249 ,  0.29306605,\n",
       "        0.5095224 , -0.00820093, -0.10140014, -0.65651923,  0.12613136,\n",
       "       -0.00484333, -0.0870612 , -0.13071802, -0.36670482, -0.8388478 ,\n",
       "        1.0297117 , -0.35016438,  0.18115984, -1.0347841 ,  0.87460107,\n",
       "       -0.10600601,  0.59669363,  1.0266174 , -0.86535484,  0.7817366 ,\n",
       "        0.1174584 ,  0.7372062 , -0.03093004, -0.7789671 ,  0.27572927,\n",
       "       -0.5617488 ,  0.08049758, -0.50067985,  1.0940508 , -0.42548326,\n",
       "       -0.47194406, -0.17077969,  0.37221283,  0.4149933 , -0.00660751,\n",
       "        0.6463429 ,  0.18195274,  0.44271842,  0.40422222,  1.5262388 ,\n",
       "        0.51201713, -0.33515748, -0.87853324,  0.07109472, -0.46395332],\n",
       "      dtype=float32)"
      ]
     },
     "execution_count": 40,
     "metadata": {},
     "output_type": "execute_result"
    }
   ],
   "source": [
    "#y\n",
    "print(tokenized_tweet[0])\n",
    "model_w2v.wv['user']"
   ]
  },
  {
   "cell_type": "markdown",
   "id": "21ccf145-ed2c-40c6-a184-72bd6ba0386d",
   "metadata": {
    "tags": []
   },
   "source": [
    "## Lets balance the data set"
   ]
  },
  {
   "cell_type": "markdown",
   "id": "a79c8844-27a0-4923-a877-befecd3786c5",
   "metadata": {
    "tags": []
   },
   "source": [
    "## Convert to vector"
   ]
  },
  {
   "cell_type": "code",
   "execution_count": 41,
   "id": "990c6c9b-e8dc-4625-b270-a70ecd8c7a5a",
   "metadata": {
    "tags": []
   },
   "outputs": [
    {
     "name": "stderr",
     "output_type": "stream",
     "text": [
      "100%|███████████████████████████████████████████████████████████████████████████████████████████████████████████████████████████████████████████████████████████████| 31962/31962 [00:54<00:00, 583.35it/s]"
     ]
    },
    {
     "name": "stdout",
     "output_type": "stream",
     "text": [
      "31962\n",
      "100\n"
     ]
    },
    {
     "name": "stderr",
     "output_type": "stream",
     "text": [
      "\n"
     ]
    }
   ],
   "source": [
    "vector=[]\n",
    "from tqdm import tqdm\n",
    "for sent in tqdm(tokenized_tweet):\n",
    "    sent_vec=np.zeros(100)\n",
    "    count =0\n",
    "    for word in sent: \n",
    "        if word in list(model_w2v.wv.index_to_key):\n",
    "            vec = model_w2v.wv[word]\n",
    "            sent_vec += vec \n",
    "            count += 1\n",
    "    if count != 0:\n",
    "        sent_vec /= count #normalize\n",
    "    vector.append(sent_vec)\n",
    "print(len(vector))\n",
    "print(len(vector[0])) "
   ]
  },
  {
   "cell_type": "code",
   "execution_count": 42,
   "id": "4b2546ab-f488-4929-b3f5-505321aa4268",
   "metadata": {
    "tags": []
   },
   "outputs": [],
   "source": [
    "w2v_data=pd.DataFrame(vector)\n",
    "w2v_data['label'] = df_copy2['label']"
   ]
  },
  {
   "cell_type": "code",
   "execution_count": 43,
   "id": "ec9f4f97-2262-41db-b33e-59b0d48dbc30",
   "metadata": {
    "tags": []
   },
   "outputs": [
    {
     "name": "stdout",
     "output_type": "stream",
     "text": [
      "shape (59440, 101)\n"
     ]
    },
    {
     "data": {
      "text/plain": [
       "0    29720\n",
       "1    29720\n",
       "Name: label, dtype: int64"
      ]
     },
     "execution_count": 43,
     "metadata": {},
     "output_type": "execute_result"
    }
   ],
   "source": [
    "import seaborn as sns\n",
    "from sklearn.utils import resample\n",
    "major_class_0,major_class_1=w2v_data.label.value_counts()\n",
    "df_major=w2v_data[w2v_data['label']==0]\n",
    "df_minor=w2v_data[w2v_data['label']==1]\n",
    "df_minor_upsampled = resample(df_minor, \n",
    "                                 replace=True,     # sample with replacement\n",
    "                                 n_samples=major_class_0)\n",
    "df_wv_upsampled = pd.concat([df_major, df_minor_upsampled])\n",
    "print('shape',df_wv_upsampled.shape)\n",
    "#sns.countplot(df_wv_upsampled.label)\n",
    "df_wv_upsampled.label.value_counts()"
   ]
  },
  {
   "cell_type": "code",
   "execution_count": 44,
   "id": "fda0ea8d-3cf0-4ed3-8a8c-defa479b97d5",
   "metadata": {
    "tags": []
   },
   "outputs": [
    {
     "data": {
      "text/html": [
       "<div>\n",
       "<style scoped>\n",
       "    .dataframe tbody tr th:only-of-type {\n",
       "        vertical-align: middle;\n",
       "    }\n",
       "\n",
       "    .dataframe tbody tr th {\n",
       "        vertical-align: top;\n",
       "    }\n",
       "\n",
       "    .dataframe thead th {\n",
       "        text-align: right;\n",
       "    }\n",
       "</style>\n",
       "<table border=\"1\" class=\"dataframe\">\n",
       "  <thead>\n",
       "    <tr style=\"text-align: right;\">\n",
       "      <th></th>\n",
       "      <th>0</th>\n",
       "      <th>1</th>\n",
       "      <th>2</th>\n",
       "      <th>3</th>\n",
       "      <th>4</th>\n",
       "      <th>5</th>\n",
       "      <th>6</th>\n",
       "      <th>7</th>\n",
       "      <th>8</th>\n",
       "      <th>9</th>\n",
       "      <th>...</th>\n",
       "      <th>90</th>\n",
       "      <th>91</th>\n",
       "      <th>92</th>\n",
       "      <th>93</th>\n",
       "      <th>94</th>\n",
       "      <th>95</th>\n",
       "      <th>96</th>\n",
       "      <th>97</th>\n",
       "      <th>98</th>\n",
       "      <th>99</th>\n",
       "    </tr>\n",
       "  </thead>\n",
       "  <tbody>\n",
       "    <tr>\n",
       "      <th>0</th>\n",
       "      <td>-0.020313</td>\n",
       "      <td>0.462140</td>\n",
       "      <td>0.012661</td>\n",
       "      <td>-0.144501</td>\n",
       "      <td>0.148504</td>\n",
       "      <td>-0.648105</td>\n",
       "      <td>0.527134</td>\n",
       "      <td>0.943230</td>\n",
       "      <td>-0.232091</td>\n",
       "      <td>-0.365398</td>\n",
       "      <td>...</td>\n",
       "      <td>0.568116</td>\n",
       "      <td>-0.088100</td>\n",
       "      <td>0.387907</td>\n",
       "      <td>0.124144</td>\n",
       "      <td>0.577395</td>\n",
       "      <td>0.261408</td>\n",
       "      <td>0.064578</td>\n",
       "      <td>-0.520902</td>\n",
       "      <td>0.185323</td>\n",
       "      <td>0.210054</td>\n",
       "    </tr>\n",
       "    <tr>\n",
       "      <th>1</th>\n",
       "      <td>0.035847</td>\n",
       "      <td>0.031578</td>\n",
       "      <td>0.125603</td>\n",
       "      <td>0.060391</td>\n",
       "      <td>0.020389</td>\n",
       "      <td>-0.444933</td>\n",
       "      <td>0.309471</td>\n",
       "      <td>0.811384</td>\n",
       "      <td>-0.366124</td>\n",
       "      <td>-0.107799</td>\n",
       "      <td>...</td>\n",
       "      <td>0.359426</td>\n",
       "      <td>-0.040718</td>\n",
       "      <td>0.146234</td>\n",
       "      <td>0.210180</td>\n",
       "      <td>0.644221</td>\n",
       "      <td>0.083951</td>\n",
       "      <td>0.002492</td>\n",
       "      <td>-0.568227</td>\n",
       "      <td>0.260416</td>\n",
       "      <td>-0.026832</td>\n",
       "    </tr>\n",
       "    <tr>\n",
       "      <th>2</th>\n",
       "      <td>-0.567864</td>\n",
       "      <td>0.733062</td>\n",
       "      <td>0.271392</td>\n",
       "      <td>-0.237087</td>\n",
       "      <td>0.068107</td>\n",
       "      <td>-0.765012</td>\n",
       "      <td>0.137128</td>\n",
       "      <td>0.950810</td>\n",
       "      <td>-0.012714</td>\n",
       "      <td>-0.699011</td>\n",
       "      <td>...</td>\n",
       "      <td>0.661913</td>\n",
       "      <td>-0.082153</td>\n",
       "      <td>0.858035</td>\n",
       "      <td>0.054140</td>\n",
       "      <td>0.743801</td>\n",
       "      <td>0.794076</td>\n",
       "      <td>-0.052192</td>\n",
       "      <td>-0.526138</td>\n",
       "      <td>0.317563</td>\n",
       "      <td>-0.211564</td>\n",
       "    </tr>\n",
       "    <tr>\n",
       "      <th>3</th>\n",
       "      <td>-0.530216</td>\n",
       "      <td>0.432435</td>\n",
       "      <td>-0.454670</td>\n",
       "      <td>0.430926</td>\n",
       "      <td>-0.368931</td>\n",
       "      <td>-0.501042</td>\n",
       "      <td>1.304811</td>\n",
       "      <td>1.478216</td>\n",
       "      <td>-0.623380</td>\n",
       "      <td>0.271630</td>\n",
       "      <td>...</td>\n",
       "      <td>1.446574</td>\n",
       "      <td>-0.352496</td>\n",
       "      <td>0.792822</td>\n",
       "      <td>0.012822</td>\n",
       "      <td>1.252491</td>\n",
       "      <td>0.234668</td>\n",
       "      <td>0.298770</td>\n",
       "      <td>-1.314121</td>\n",
       "      <td>0.494426</td>\n",
       "      <td>1.025854</td>\n",
       "    </tr>\n",
       "    <tr>\n",
       "      <th>4</th>\n",
       "      <td>-0.351796</td>\n",
       "      <td>0.303203</td>\n",
       "      <td>0.047363</td>\n",
       "      <td>0.070058</td>\n",
       "      <td>0.006580</td>\n",
       "      <td>-0.557374</td>\n",
       "      <td>0.092473</td>\n",
       "      <td>0.350262</td>\n",
       "      <td>-0.175360</td>\n",
       "      <td>0.003295</td>\n",
       "      <td>...</td>\n",
       "      <td>0.284458</td>\n",
       "      <td>0.113890</td>\n",
       "      <td>0.228271</td>\n",
       "      <td>-0.092680</td>\n",
       "      <td>0.173053</td>\n",
       "      <td>0.133277</td>\n",
       "      <td>0.282012</td>\n",
       "      <td>-0.338521</td>\n",
       "      <td>0.207774</td>\n",
       "      <td>0.312106</td>\n",
       "    </tr>\n",
       "    <tr>\n",
       "      <th>...</th>\n",
       "      <td>...</td>\n",
       "      <td>...</td>\n",
       "      <td>...</td>\n",
       "      <td>...</td>\n",
       "      <td>...</td>\n",
       "      <td>...</td>\n",
       "      <td>...</td>\n",
       "      <td>...</td>\n",
       "      <td>...</td>\n",
       "      <td>...</td>\n",
       "      <td>...</td>\n",
       "      <td>...</td>\n",
       "      <td>...</td>\n",
       "      <td>...</td>\n",
       "      <td>...</td>\n",
       "      <td>...</td>\n",
       "      <td>...</td>\n",
       "      <td>...</td>\n",
       "      <td>...</td>\n",
       "      <td>...</td>\n",
       "      <td>...</td>\n",
       "    </tr>\n",
       "    <tr>\n",
       "      <th>20138</th>\n",
       "      <td>0.135971</td>\n",
       "      <td>0.166409</td>\n",
       "      <td>0.252821</td>\n",
       "      <td>0.016684</td>\n",
       "      <td>-0.207263</td>\n",
       "      <td>-0.703671</td>\n",
       "      <td>0.430273</td>\n",
       "      <td>1.462677</td>\n",
       "      <td>-0.495254</td>\n",
       "      <td>-0.259997</td>\n",
       "      <td>...</td>\n",
       "      <td>0.475945</td>\n",
       "      <td>0.180805</td>\n",
       "      <td>0.431280</td>\n",
       "      <td>0.303666</td>\n",
       "      <td>1.084358</td>\n",
       "      <td>0.472990</td>\n",
       "      <td>-0.147725</td>\n",
       "      <td>-0.626558</td>\n",
       "      <td>0.116376</td>\n",
       "      <td>-0.299784</td>\n",
       "    </tr>\n",
       "    <tr>\n",
       "      <th>19558</th>\n",
       "      <td>0.093969</td>\n",
       "      <td>0.115171</td>\n",
       "      <td>0.177611</td>\n",
       "      <td>-0.017065</td>\n",
       "      <td>0.035728</td>\n",
       "      <td>-0.618576</td>\n",
       "      <td>0.410690</td>\n",
       "      <td>1.053110</td>\n",
       "      <td>-0.402227</td>\n",
       "      <td>-0.023418</td>\n",
       "      <td>...</td>\n",
       "      <td>0.465240</td>\n",
       "      <td>0.093034</td>\n",
       "      <td>0.253926</td>\n",
       "      <td>0.254271</td>\n",
       "      <td>0.838799</td>\n",
       "      <td>0.216737</td>\n",
       "      <td>0.082745</td>\n",
       "      <td>-0.693722</td>\n",
       "      <td>0.240930</td>\n",
       "      <td>-0.065664</td>\n",
       "    </tr>\n",
       "    <tr>\n",
       "      <th>2608</th>\n",
       "      <td>-0.040647</td>\n",
       "      <td>0.148310</td>\n",
       "      <td>0.063807</td>\n",
       "      <td>0.020884</td>\n",
       "      <td>0.003450</td>\n",
       "      <td>-0.393204</td>\n",
       "      <td>0.249428</td>\n",
       "      <td>0.565020</td>\n",
       "      <td>-0.221947</td>\n",
       "      <td>0.064307</td>\n",
       "      <td>...</td>\n",
       "      <td>0.303689</td>\n",
       "      <td>0.068904</td>\n",
       "      <td>0.198815</td>\n",
       "      <td>0.089749</td>\n",
       "      <td>0.412443</td>\n",
       "      <td>0.118738</td>\n",
       "      <td>0.203688</td>\n",
       "      <td>-0.418939</td>\n",
       "      <td>0.170161</td>\n",
       "      <td>0.110949</td>\n",
       "    </tr>\n",
       "    <tr>\n",
       "      <th>8070</th>\n",
       "      <td>-0.058705</td>\n",
       "      <td>0.045459</td>\n",
       "      <td>0.098280</td>\n",
       "      <td>0.133139</td>\n",
       "      <td>0.407504</td>\n",
       "      <td>-0.755562</td>\n",
       "      <td>-0.008003</td>\n",
       "      <td>0.941622</td>\n",
       "      <td>-0.026578</td>\n",
       "      <td>-0.078224</td>\n",
       "      <td>...</td>\n",
       "      <td>0.463418</td>\n",
       "      <td>0.012618</td>\n",
       "      <td>0.145364</td>\n",
       "      <td>0.291273</td>\n",
       "      <td>0.647647</td>\n",
       "      <td>0.222792</td>\n",
       "      <td>0.686774</td>\n",
       "      <td>-0.700369</td>\n",
       "      <td>0.325758</td>\n",
       "      <td>0.105711</td>\n",
       "    </tr>\n",
       "    <tr>\n",
       "      <th>7785</th>\n",
       "      <td>-0.118177</td>\n",
       "      <td>0.149123</td>\n",
       "      <td>0.105808</td>\n",
       "      <td>0.067216</td>\n",
       "      <td>-0.070028</td>\n",
       "      <td>-0.406716</td>\n",
       "      <td>0.171377</td>\n",
       "      <td>0.545991</td>\n",
       "      <td>-0.217995</td>\n",
       "      <td>-0.028162</td>\n",
       "      <td>...</td>\n",
       "      <td>0.273728</td>\n",
       "      <td>0.090725</td>\n",
       "      <td>0.213272</td>\n",
       "      <td>0.073012</td>\n",
       "      <td>0.397846</td>\n",
       "      <td>0.214920</td>\n",
       "      <td>0.104858</td>\n",
       "      <td>-0.315782</td>\n",
       "      <td>0.163637</td>\n",
       "      <td>0.076092</td>\n",
       "    </tr>\n",
       "  </tbody>\n",
       "</table>\n",
       "<p>59440 rows × 100 columns</p>\n",
       "</div>"
      ],
      "text/plain": [
       "             0         1         2         3         4         5         6   \\\n",
       "0     -0.020313  0.462140  0.012661 -0.144501  0.148504 -0.648105  0.527134   \n",
       "1      0.035847  0.031578  0.125603  0.060391  0.020389 -0.444933  0.309471   \n",
       "2     -0.567864  0.733062  0.271392 -0.237087  0.068107 -0.765012  0.137128   \n",
       "3     -0.530216  0.432435 -0.454670  0.430926 -0.368931 -0.501042  1.304811   \n",
       "4     -0.351796  0.303203  0.047363  0.070058  0.006580 -0.557374  0.092473   \n",
       "...         ...       ...       ...       ...       ...       ...       ...   \n",
       "20138  0.135971  0.166409  0.252821  0.016684 -0.207263 -0.703671  0.430273   \n",
       "19558  0.093969  0.115171  0.177611 -0.017065  0.035728 -0.618576  0.410690   \n",
       "2608  -0.040647  0.148310  0.063807  0.020884  0.003450 -0.393204  0.249428   \n",
       "8070  -0.058705  0.045459  0.098280  0.133139  0.407504 -0.755562 -0.008003   \n",
       "7785  -0.118177  0.149123  0.105808  0.067216 -0.070028 -0.406716  0.171377   \n",
       "\n",
       "             7         8         9   ...        90        91        92  \\\n",
       "0      0.943230 -0.232091 -0.365398  ...  0.568116 -0.088100  0.387907   \n",
       "1      0.811384 -0.366124 -0.107799  ...  0.359426 -0.040718  0.146234   \n",
       "2      0.950810 -0.012714 -0.699011  ...  0.661913 -0.082153  0.858035   \n",
       "3      1.478216 -0.623380  0.271630  ...  1.446574 -0.352496  0.792822   \n",
       "4      0.350262 -0.175360  0.003295  ...  0.284458  0.113890  0.228271   \n",
       "...         ...       ...       ...  ...       ...       ...       ...   \n",
       "20138  1.462677 -0.495254 -0.259997  ...  0.475945  0.180805  0.431280   \n",
       "19558  1.053110 -0.402227 -0.023418  ...  0.465240  0.093034  0.253926   \n",
       "2608   0.565020 -0.221947  0.064307  ...  0.303689  0.068904  0.198815   \n",
       "8070   0.941622 -0.026578 -0.078224  ...  0.463418  0.012618  0.145364   \n",
       "7785   0.545991 -0.217995 -0.028162  ...  0.273728  0.090725  0.213272   \n",
       "\n",
       "             93        94        95        96        97        98        99  \n",
       "0      0.124144  0.577395  0.261408  0.064578 -0.520902  0.185323  0.210054  \n",
       "1      0.210180  0.644221  0.083951  0.002492 -0.568227  0.260416 -0.026832  \n",
       "2      0.054140  0.743801  0.794076 -0.052192 -0.526138  0.317563 -0.211564  \n",
       "3      0.012822  1.252491  0.234668  0.298770 -1.314121  0.494426  1.025854  \n",
       "4     -0.092680  0.173053  0.133277  0.282012 -0.338521  0.207774  0.312106  \n",
       "...         ...       ...       ...       ...       ...       ...       ...  \n",
       "20138  0.303666  1.084358  0.472990 -0.147725 -0.626558  0.116376 -0.299784  \n",
       "19558  0.254271  0.838799  0.216737  0.082745 -0.693722  0.240930 -0.065664  \n",
       "2608   0.089749  0.412443  0.118738  0.203688 -0.418939  0.170161  0.110949  \n",
       "8070   0.291273  0.647647  0.222792  0.686774 -0.700369  0.325758  0.105711  \n",
       "7785   0.073012  0.397846  0.214920  0.104858 -0.315782  0.163637  0.076092  \n",
       "\n",
       "[59440 rows x 100 columns]"
      ]
     },
     "execution_count": 44,
     "metadata": {},
     "output_type": "execute_result"
    }
   ],
   "source": [
    "Y = df_wv_upsampled['label']\n",
    "X = df_wv_upsampled.loc[:,:99]\n",
    "X"
   ]
  },
  {
   "cell_type": "code",
   "execution_count": null,
   "id": "c92cb561-a179-4ff8-99b5-781d7a52124a",
   "metadata": {
    "tags": []
   },
   "outputs": [],
   "source": []
  },
  {
   "cell_type": "code",
   "execution_count": 45,
   "id": "4169e389-5b74-4216-87c0-022028958dc2",
   "metadata": {
    "tags": []
   },
   "outputs": [
    {
     "data": {
      "text/plain": [
       "0.992849932705249"
      ]
     },
     "execution_count": 45,
     "metadata": {},
     "output_type": "execute_result"
    }
   ],
   "source": [
    "X_train ,X_test,Y_train,Y_test = train_test_split(X,Y,test_size=0.20,random_state=42)\n",
    "rfc = RandomForestClassifier()\n",
    "rfc.fit(X_train,Y_train)\n",
    "y_pred = rfc.predict(X_test)\n",
    "accuracy_score(y_pred,Y_test)"
   ]
  },
  {
   "cell_type": "code",
   "execution_count": 46,
   "id": "acb5ad33-52e6-4134-8cd6-97b99f0e5ba8",
   "metadata": {
    "tags": []
   },
   "outputs": [],
   "source": [
    "from sklearn.neighbors import KNeighborsClassifier"
   ]
  },
  {
   "cell_type": "code",
   "execution_count": 47,
   "id": "0cd13c00-53c6-4cc3-84b2-372a0e1302e9",
   "metadata": {
    "tags": []
   },
   "outputs": [
    {
     "data": {
      "text/plain": [
       "0.8775235531628532"
      ]
     },
     "execution_count": 47,
     "metadata": {},
     "output_type": "execute_result"
    }
   ],
   "source": [
    "knn = KNeighborsClassifier(n_neighbors=11)\n",
    "knn.fit(X_train,Y_train)\n",
    "y_pred = knn.predict(X_test)\n",
    "accuracy_score(y_pred,Y_test)"
   ]
  },
  {
   "cell_type": "code",
   "execution_count": null,
   "id": "89933b0e-b38b-4f88-927e-4530fda02379",
   "metadata": {},
   "outputs": [],
   "source": []
  }
 ],
 "metadata": {
  "kernelspec": {
   "display_name": "Python 3 (ipykernel)",
   "language": "python",
   "name": "python3"
  },
  "language_info": {
   "codemirror_mode": {
    "name": "ipython",
    "version": 3
   },
   "file_extension": ".py",
   "mimetype": "text/x-python",
   "name": "python",
   "nbconvert_exporter": "python",
   "pygments_lexer": "ipython3",
   "version": "3.8.10"
  }
 },
 "nbformat": 4,
 "nbformat_minor": 5
}
