{
 "cells": [
  {
   "cell_type": "code",
   "execution_count": 27,
   "id": "90e1baf1-6c18-448f-8f9e-d340fe2d053e",
   "metadata": {
    "tags": []
   },
   "outputs": [],
   "source": [
    "# import necessary libraries\n",
    "import pandas as pd\n",
    "import re\n",
    "import string,time\n",
    "from nltk.corpus import stopwords\n",
    "from nltk.tokenize import word_tokenize\n",
    "from nltk.stem import PorterStemmer,WordNetLemmatizer\n",
    "\n",
    "# define utility funtions\n",
    "\n",
    "def remove_html_tags(text):\n",
    "    pattern = re.compile('<.*?>')\n",
    "    return pattern.sub(r'', text)\n",
    "\n",
    "def remove_url(text):\n",
    "    pattern = re.compile(r'https?://\\S+|www\\.\\S+')\n",
    "    return pattern.sub(r'', text)\n",
    "\n",
    "def remove_punc(text):\n",
    "    exclude = string.punctuation\n",
    "    for char in exclude:\n",
    "        text = text.replace(char,'')\n",
    "    return text\n",
    "\n",
    "def remove_punc1(text):\n",
    "    exclude = string.punctuation\n",
    "    return text.translate(str.maketrans('', '', exclude))\n",
    "\n",
    "\n",
    "def chat_conversion(text):\n",
    "    chat_words = {\n",
    "        'AFAIK':'as far as i know',\n",
    "        'AFK':'away from keyboard',\n",
    "        'ASAP':'as soon as possible'\n",
    "    }\n",
    "    new_text = []\n",
    "    for w in text.split():\n",
    "        if w.upper() in chat_words:\n",
    "            new_text.append(chat_words[w.upper()])\n",
    "        else:\n",
    "            new_text.append(w)\n",
    "    return \" \".join(new_text)\n",
    "\n",
    "def remove_stopwords(text):\n",
    "    new_text = []\n",
    "\n",
    "    for word in text.split():\n",
    "        if word in stopwords.words('english'):\n",
    "            new_text.append('')\n",
    "        else:\n",
    "            new_text.append(word)\n",
    "    x = new_text[:]\n",
    "    new_text.clear()\n",
    "    return \" \".join(x)\n",
    "\n",
    "def remove_emoji(text):\n",
    "    emoji_pattern = re.compile(\"[\"\n",
    "                           u\"\\U0001F600-\\U0001F64F\"  # emoticons\n",
    "                           u\"\\U0001F300-\\U0001F5FF\"  # symbols & pictographs\n",
    "                           u\"\\U0001F680-\\U0001F6FF\"  # transport & map symbols\n",
    "                           u\"\\U0001F1E0-\\U0001F1FF\"  # flags (iOS)\n",
    "                           u\"\\U00002702-\\U000027B0\"\n",
    "                           u\"\\U000024C2-\\U0001F251\"\n",
    "                           \"]+\", flags=re.UNICODE)\n",
    "    return emoji_pattern.sub(r'', text)\n",
    "\n",
    "def remove_stop_words(text):\n",
    "    sentence = word_tokenize(text)\n",
    "    words = [ word for word in sentence if not word in stopwords.word('english')]\n",
    "    return ' '.join(words)\n",
    "\n",
    "def remove_stop_words(text):\n",
    "    sentence = word_tokenize(text)\n",
    "    words = [ word for word in sentence if not word in stopwords.words('english')]\n",
    "    return ' '.join(words)\n",
    "\n",
    "def lemmatize_words(text):\n",
    "    lem = WordNetLemmatizer()\n",
    "    sentence = word_tokenize(text)\n",
    "    words = [ lem.lemmatize(word) for word in sentence]\n",
    "    return ' '.join(words)\n",
    "    \n",
    "def stem_words(text):\n",
    "    stemmer = PorterStemmer()\n",
    "    sentence = word_tokenize(text)\n",
    "    words = [ stemmer.stem(word) for word in sentence]\n",
    "    return ' '.join(words)"
   ]
  },
  {
   "cell_type": "code",
   "execution_count": 2,
   "id": "82b23447-a6cf-4404-b05a-5deed4032b5d",
   "metadata": {
    "tags": []
   },
   "outputs": [
    {
     "data": {
      "text/html": [
       "<div>\n",
       "<style scoped>\n",
       "    .dataframe tbody tr th:only-of-type {\n",
       "        vertical-align: middle;\n",
       "    }\n",
       "\n",
       "    .dataframe tbody tr th {\n",
       "        vertical-align: top;\n",
       "    }\n",
       "\n",
       "    .dataframe thead th {\n",
       "        text-align: right;\n",
       "    }\n",
       "</style>\n",
       "<table border=\"1\" class=\"dataframe\">\n",
       "  <thead>\n",
       "    <tr style=\"text-align: right;\">\n",
       "      <th></th>\n",
       "      <th>id</th>\n",
       "      <th>label</th>\n",
       "      <th>tweet</th>\n",
       "    </tr>\n",
       "  </thead>\n",
       "  <tbody>\n",
       "    <tr>\n",
       "      <th>0</th>\n",
       "      <td>1</td>\n",
       "      <td>0</td>\n",
       "      <td>@user when a father is dysfunctional and is s...</td>\n",
       "    </tr>\n",
       "    <tr>\n",
       "      <th>1</th>\n",
       "      <td>2</td>\n",
       "      <td>0</td>\n",
       "      <td>@user @user thanks for #lyft credit i can't us...</td>\n",
       "    </tr>\n",
       "    <tr>\n",
       "      <th>2</th>\n",
       "      <td>3</td>\n",
       "      <td>0</td>\n",
       "      <td>bihday your majesty</td>\n",
       "    </tr>\n",
       "    <tr>\n",
       "      <th>3</th>\n",
       "      <td>4</td>\n",
       "      <td>0</td>\n",
       "      <td>#model   i love u take with u all the time in ...</td>\n",
       "    </tr>\n",
       "    <tr>\n",
       "      <th>4</th>\n",
       "      <td>5</td>\n",
       "      <td>0</td>\n",
       "      <td>factsguide: society now    #motivation</td>\n",
       "    </tr>\n",
       "  </tbody>\n",
       "</table>\n",
       "</div>"
      ],
      "text/plain": [
       "   id  label                                              tweet\n",
       "0   1      0   @user when a father is dysfunctional and is s...\n",
       "1   2      0  @user @user thanks for #lyft credit i can't us...\n",
       "2   3      0                                bihday your majesty\n",
       "3   4      0  #model   i love u take with u all the time in ...\n",
       "4   5      0             factsguide: society now    #motivation"
      ]
     },
     "execution_count": 2,
     "metadata": {},
     "output_type": "execute_result"
    }
   ],
   "source": [
    "# load data set\n",
    "df = pd.read_csv(\"data/Twitter Sentiments.csv\");\n",
    "df.head()"
   ]
  },
  {
   "cell_type": "code",
   "execution_count": 3,
   "id": "ed1cb6f5-eff6-41a0-aa4a-46d98ef23173",
   "metadata": {
    "tags": []
   },
   "outputs": [
    {
     "data": {
      "text/plain": [
       "' @user when a father is dysfunctional and is so selfish he drags his kids into his dysfunction.   #run'"
      ]
     },
     "execution_count": 3,
     "metadata": {},
     "output_type": "execute_result"
    }
   ],
   "source": [
    "df['tweet'][0]"
   ]
  },
  {
   "cell_type": "code",
   "execution_count": 4,
   "id": "aeb79d6f-dc61-49d9-bef5-e91323e92b05",
   "metadata": {
    "tags": []
   },
   "outputs": [
    {
     "data": {
      "text/plain": [
       "(31962, 3)"
      ]
     },
     "execution_count": 4,
     "metadata": {},
     "output_type": "execute_result"
    }
   ],
   "source": [
    "df.shape"
   ]
  },
  {
   "cell_type": "markdown",
   "id": "a5b49e65-a502-4cc1-8600-e52e894528f6",
   "metadata": {},
   "source": [
    "# Steps for data preprocessing"
   ]
  },
  {
   "cell_type": "markdown",
   "id": "3dd9462b-68f9-40aa-a606-2b4cbaacc1ec",
   "metadata": {},
   "source": [
    "### 1.lower case\n",
    "### 2.remove_html_tags\n",
    "### 3.remove_url\n",
    "### 4.punctuation handling\n",
    "### 5.chat_conversion handle\n",
    "### 6.incorrect_text handling\n",
    "### 7.stopwords\n",
    "### 8.remove_emoji handle\n",
    "### 9.Tokenization\n",
    "### 10.Stemming \n",
    "### 11.Lemmatizing"
   ]
  },
  {
   "cell_type": "code",
   "execution_count": 5,
   "id": "4da916e8-b8f9-4be1-8729-289c653851fa",
   "metadata": {
    "tags": []
   },
   "outputs": [],
   "source": [
    "df_copy = df.copy()\n",
    "from nltk.tokenize import sent_tokenize"
   ]
  },
  {
   "cell_type": "code",
   "execution_count": 6,
   "id": "568575f0-4a36-4712-8aa5-5d935243b8cc",
   "metadata": {
    "tags": []
   },
   "outputs": [
    {
     "data": {
      "text/plain": [
       "' @user when a father is dysfunctional and is so selfish he drags his kids into his dysfunction.   #run'"
      ]
     },
     "execution_count": 6,
     "metadata": {},
     "output_type": "execute_result"
    }
   ],
   "source": [
    "# lowering\n",
    "df_copy['tweet'] = df_copy['tweet'].str.lower()\n",
    "df_copy.tweet[0]"
   ]
  },
  {
   "cell_type": "code",
   "execution_count": 7,
   "id": "18429721-6031-4540-8539-2caec371a572",
   "metadata": {
    "tags": []
   },
   "outputs": [],
   "source": [
    "#remove html tags\n",
    "df_copy['tweet'] = df_copy['tweet'].apply(remove_html_tags)"
   ]
  },
  {
   "cell_type": "code",
   "execution_count": 8,
   "id": "540bbdc5-89a3-4063-bcfc-ac850a7ef1f5",
   "metadata": {
    "tags": []
   },
   "outputs": [],
   "source": [
    "# remove URLs\n",
    "df_copy['tweet'] = df_copy['tweet'].apply(remove_url)"
   ]
  },
  {
   "cell_type": "code",
   "execution_count": 9,
   "id": "5d41739f-c615-444c-9fc8-bd6fc111073b",
   "metadata": {
    "tags": []
   },
   "outputs": [],
   "source": [
    "# remove punctuation\n",
    "df_copy['tweet'] = df_copy['tweet'].apply(remove_punc1)"
   ]
  },
  {
   "cell_type": "code",
   "execution_count": 10,
   "id": "13a413fa-48f0-4588-ab8a-202039a5b09e",
   "metadata": {
    "tags": []
   },
   "outputs": [
    {
     "data": {
      "text/plain": [
       "'model   i love u take with u all the time in urð\\x9f\\x93± ð\\x9f\\x98\\x99ð\\x9f\\x98\\x8eð\\x9f\\x91\\x84ð\\x9f\\x91\\x85ð\\x9f\\x92¦ð\\x9f\\x92¦ð\\x9f\\x92¦  '"
      ]
     },
     "execution_count": 10,
     "metadata": {},
     "output_type": "execute_result"
    }
   ],
   "source": [
    "df_copy.tweet[3]"
   ]
  },
  {
   "cell_type": "code",
   "execution_count": 11,
   "id": "9361d091-d8fa-4909-8c73-87a87e27394c",
   "metadata": {
    "tags": []
   },
   "outputs": [
    {
     "data": {
      "text/plain": [
       "'user hey when are u guys gonna release the gtx 1080 strix in australia i needa buy it asap cant wait no longer hahahahaaa  '"
      ]
     },
     "execution_count": 11,
     "metadata": {},
     "output_type": "execute_result"
    }
   ],
   "source": [
    "# chat conversion\n",
    "df_copy.tweet[4018]"
   ]
  },
  {
   "cell_type": "code",
   "execution_count": 12,
   "id": "7eb07479-4561-477c-88e4-091d96b660e0",
   "metadata": {
    "tags": []
   },
   "outputs": [
    {
     "data": {
      "text/plain": [
       "'user hey when are u guys gonna release the gtx 1080 strix in australia i needa buy it as soon as possible cant wait no longer hahahahaaa'"
      ]
     },
     "execution_count": 12,
     "metadata": {},
     "output_type": "execute_result"
    }
   ],
   "source": [
    "df_copy['tweet'] = df_copy['tweet'].apply(chat_conversion)\n",
    "df_copy.tweet[4018]"
   ]
  },
  {
   "cell_type": "code",
   "execution_count": 15,
   "id": "26298862-8407-4cf6-89ae-7a41910093a4",
   "metadata": {
    "tags": []
   },
   "outputs": [],
   "source": [
    "#incorrect text handling\n",
    "from textblob import TextBlob\n"
   ]
  },
  {
   "cell_type": "code",
   "execution_count": 24,
   "id": "ee21bdc5-848b-4879-a89f-a77e11d22e82",
   "metadata": {
    "tags": []
   },
   "outputs": [],
   "source": [
    "#df_copy['tweet'] = df_copy['tweet'].apply(lambda text: TextBlob(text).correct().string)"
   ]
  },
  {
   "cell_type": "code",
   "execution_count": 29,
   "id": "cc6847bb-1ad5-4235-9ae4-9eee7c37eee9",
   "metadata": {
    "tags": []
   },
   "outputs": [
    {
     "data": {
      "text/plain": [
       "'user hey u guys gon na release gtx 1080 strix australia needa buy soon possible cant wait longer hahahahaaa'"
      ]
     },
     "execution_count": 29,
     "metadata": {},
     "output_type": "execute_result"
    }
   ],
   "source": [
    "# remove stopwords\n",
    "df_copy['tweet'] = df_copy['tweet'].apply(remove_stop_words)\n",
    "df_copy.tweet[4018]"
   ]
  },
  {
   "cell_type": "code",
   "execution_count": 39,
   "id": "4f4fcd03-23b2-4276-b235-5651aeaf177e",
   "metadata": {
    "tags": []
   },
   "outputs": [
    {
     "data": {
      "text/plain": [
       "'model love u take u time urð\\x9f\\x93± ð\\x9f\\x98\\x99ð\\x9f\\x98\\x8eð\\x9f\\x91\\x84ð\\x9f\\x91 ð\\x9f\\x92¦ð\\x9f\\x92¦ð\\x9f\\x92¦'"
      ]
     },
     "execution_count": 39,
     "metadata": {},
     "output_type": "execute_result"
    }
   ],
   "source": [
    "# remove emojis\n",
    "df_copy['tweet'] = df_copy['tweet'].apply(remove_emoji)\n",
    "df_copy.tweet[3]"
   ]
  },
  {
   "cell_type": "code",
   "execution_count": 53,
   "id": "ca7fae20-8b7f-4235-84ab-fcd3a3bce0ca",
   "metadata": {
    "tags": []
   },
   "outputs": [
    {
     "data": {
      "text/plain": [
       "'model love u take u time ur                                 '"
      ]
     },
     "execution_count": 53,
     "metadata": {},
     "output_type": "execute_result"
    }
   ],
   "source": [
    "#remove special characters\n",
    "reg = r'[^a-zA-Z]'\n",
    "df_copy['tweet'] = df_copy['tweet'].apply(lambda text : re.sub(reg,' ',text))\n",
    "df_copy.tweet[3]"
   ]
  },
  {
   "cell_type": "code",
   "execution_count": 54,
   "id": "fdbb8771-4843-4ce0-9193-8d42437b7a81",
   "metadata": {
    "tags": []
   },
   "outputs": [],
   "source": [
    "#lemmatizing the words\n",
    "df_copy['tweet'] = df_copy['tweet'].apply(lemmatize_words)"
   ]
  },
  {
   "cell_type": "code",
   "execution_count": 55,
   "id": "8ab7796b-9fe1-4764-bb4f-0231bb9a8d20",
   "metadata": {
    "tags": []
   },
   "outputs": [
    {
     "data": {
      "text/plain": [
       "0        user father dysfunctional selfish drag kid dys...\n",
       "1        user user thanks lyft credit cant use cause do...\n",
       "2                                           bihday majesty\n",
       "3                              model love u take u time ur\n",
       "4                            factsguide society motivation\n",
       "                               ...                        \n",
       "31957                                   ate user isz youuu\n",
       "31958    see nina turner airwave trying wrap mantle gen...\n",
       "31959       listening sad song monday morning otw work sad\n",
       "31960    user sikh temple vandalised calgary wso condem...\n",
       "31961                                    thank user follow\n",
       "Name: tweet, Length: 31962, dtype: object"
      ]
     },
     "execution_count": 55,
     "metadata": {},
     "output_type": "execute_result"
    }
   ],
   "source": [
    "df_copy['tweet']"
   ]
  },
  {
   "cell_type": "markdown",
   "id": "d4e0e413-d82a-41ec-bebc-d344ef81f3e5",
   "metadata": {},
   "source": [
    "# Bag Of Words"
   ]
  },
  {
   "cell_type": "code",
   "execution_count": 68,
   "id": "a1a99b05-f4e8-4169-8cda-8549f050ff0c",
   "metadata": {
    "tags": []
   },
   "outputs": [],
   "source": [
    "from sklearn.feature_extraction.text import CountVectorizer\n",
    "cv = CountVectorizer()"
   ]
  },
  {
   "cell_type": "code",
   "execution_count": 69,
   "id": "0d6b7263-15db-4ef0-9b61-d695f5245764",
   "metadata": {
    "tags": []
   },
   "outputs": [],
   "source": [
    "bow = cv.fit_transform(df_copy['tweet'])"
   ]
  },
  {
   "cell_type": "code",
   "execution_count": 70,
   "id": "d0b09ada-24c3-4560-99ea-40b2f101184a",
   "metadata": {
    "tags": []
   },
   "outputs": [
    {
     "data": {
      "text/plain": [
       "37098"
      ]
     },
     "execution_count": 70,
     "metadata": {},
     "output_type": "execute_result"
    }
   ],
   "source": [
    "len(cv.vocabulary_)"
   ]
  },
  {
   "cell_type": "code",
   "execution_count": 71,
   "id": "c5b93de7-cdcc-4fe3-a27c-bef4c53e8404",
   "metadata": {
    "tags": []
   },
   "outputs": [
    {
     "data": {
      "text/plain": [
       "array([[0, 0, 0, ..., 0, 0, 0],\n",
       "       [0, 0, 0, ..., 0, 0, 0],\n",
       "       [0, 0, 0, ..., 0, 0, 0],\n",
       "       ...,\n",
       "       [0, 0, 0, ..., 0, 0, 0],\n",
       "       [0, 0, 0, ..., 0, 0, 0],\n",
       "       [0, 0, 0, ..., 0, 0, 0]])"
      ]
     },
     "execution_count": 71,
     "metadata": {},
     "output_type": "execute_result"
    }
   ],
   "source": [
    "bow.toarray()"
   ]
  },
  {
   "cell_type": "code",
   "execution_count": 72,
   "id": "eade7bb7-4287-4020-bba0-c5f5c20d0326",
   "metadata": {
    "tags": []
   },
   "outputs": [
    {
     "name": "stdout",
     "output_type": "stream",
     "text": [
      "[[0 0 0 ... 0 0 0]]\n"
     ]
    }
   ],
   "source": [
    "print(bow[0].toarray())"
   ]
  },
  {
   "cell_type": "code",
   "execution_count": null,
   "id": "22406dc9-5e5f-4e4f-bd04-930ee39d0420",
   "metadata": {},
   "outputs": [],
   "source": []
  }
 ],
 "metadata": {
  "kernelspec": {
   "display_name": "Python 3 (ipykernel)",
   "language": "python",
   "name": "python3"
  },
  "language_info": {
   "codemirror_mode": {
    "name": "ipython",
    "version": 3
   },
   "file_extension": ".py",
   "mimetype": "text/x-python",
   "name": "python",
   "nbconvert_exporter": "python",
   "pygments_lexer": "ipython3",
   "version": "3.8.10"
  }
 },
 "nbformat": 4,
 "nbformat_minor": 5
}
